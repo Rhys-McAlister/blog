{
 "cells": [
  {
   "cell_type": "raw",
   "metadata": {},
   "source": [
    "---\n",
    "title: \"Forcing Reactions\"\n",
    "format: html\n",
    "---"
   ]
  },
  {
   "cell_type": "markdown",
   "metadata": {},
   "source": [
    "### How to make a reaction happen?\n",
    "\n",
    "This article ponders the question, how do we make a reaction happen when it doesn't want to occur. If a reaction is favourable, that is the $ \\Delta G^{\\circ} $ is much less than zero, the reaction will not need much assistence and it will proceed. \n",
    "\n",
    "However in the instance of Endergonic reactions, conditions will need to be altered to force the reaction. \n",
    "\n",
    "> Endergonic reaction: A chemical reaction in which the standard change in free energy is positive and thus an additional driving force is required to make the reaction occur.\n",
    "\n",
    "The free energy of the reactants is less than that of the products and thus this is an energically uphill process. This means that energy will need to be added to the system to make this reaction occur. Overall, this results in a non-spontaneouslly occuring reaction.\n",
    "\n",
    "> Exergonic reaction: A favourable chemical reaction in which where the change in standard Gibbs free energy is less than zero. \n",
    "\n",
    "The free energy of the reactants is higher than that of the products and thus energy is released as a result of this reaction. This results in the change in Gibbs free energy being less than zero and thus rendering this a favourable reaction. Overall, this results in a spontaneouslly occuring reaction.\n",
    "\n",
    "\n",
    "\n",
    "\n",
    "\n",
    "In spite of the fact that a reaction is endergonic, products can still be produced from these reactions. \n",
    "\n",
    "- Due to the contributions of mixing, a reaction that would be energically 'uphill' will now be able to reach a reactant favoured equilibrium with some products being formed.\n",
    "- $ \\Delta_r G^{\\circ} = -RT ln(K) $ \n",
    "- $ \\Delta_r G^{\\circ} = G_{products} - G_{reactants} $\n",
    "- If $ \\Delta_r G^{\\circ} > 0, then K < 1 $, then reactants are still favoured over products but some products will still be present within the reaction mixture d ue to the $ \\Delta G_{mixing} $.\n",
    "\n",
    "\n",
    "Conceptual Q:\n",
    "\n",
    "- Epsilon value of 0.1, reactant dominated equilibrium, delta G > zero and mixing is in effect\n",
    "- Epsilon value of 0.5 "
   ]
  },
  {
   "cell_type": "code",
   "execution_count": null,
   "metadata": {},
   "outputs": [],
   "source": []
  },
  {
   "cell_type": "markdown",
   "metadata": {},
   "source": []
  },
  {
   "cell_type": "code",
   "execution_count": null,
   "metadata": {},
   "outputs": [],
   "source": []
  }
 ],
 "metadata": {
  "kernelspec": {
   "display_name": "Python 3.9.12",
   "language": "python",
   "name": "python3"
  },
  "language_info": {
   "codemirror_mode": {
    "name": "ipython",
    "version": 3
   },
   "file_extension": ".py",
   "mimetype": "text/x-python",
   "name": "python",
   "nbconvert_exporter": "python",
   "pygments_lexer": "ipython3",
   "version": "3.9.12"
  },
  "orig_nbformat": 4,
  "vscode": {
   "interpreter": {
    "hash": "93fc3b888e0cb9ffa465d85c091164963bd0d6f37310da138d470df672e240d6"
   }
  }
 },
 "nbformat": 4,
 "nbformat_minor": 2
}
