{
 "cells": [
  {
   "cell_type": "raw",
   "metadata": {},
   "source": [
    "---\n",
    "title: \"Le Chatelier's principle\"\n",
    "format: html\n",
    "---"
   ]
  },
  {
   "cell_type": "markdown",
   "metadata": {},
   "source": [
    "### Thermodynamics and Le Chatelier's principle\n",
    "\n",
    "To revise basic equilibrium concepts\n",
    "\n",
    "- If a system that is at equilibrium is distributed by a change in concentration, pressure or tempeture, the system will alter its equilibrium position such that the effect of the disturbance is countered. \n",
    "  \n",
    "- Changes in concentration revolve around the addition or removal of reactant or product molecules\n",
    "  - When a given substance is added to a system at equilibrium, the system will react to consome some of the substance and if a substance is removed, the system will react to produce more of the substance.\n",
    "\n",
    "- Pressure involves altering the pressure of a system by changing its volume\n",
    "  - When the volume of a gaseous equilibrium mixture at constant temperature is reduced, the system will shift in the direction that results in a reduction in the number of moles of gas.\n",
    "\n",
    "- Temperature\n",
    "\n",
    "$ aA + bB \\rightleftharpoons cC + dD $\n",
    "\n",
    "$ Q = {(P_c)^C (P_d)^D \\over (P_a)^a (P_b)^b} $ \n",
    "\n",
    "Q = K at equilibrium\n",
    "\n",
    "How do you improve reaction yield when you change the pressure of a gas\n",
    "\n",
    "Improving reaction yield by altering temperature:\n",
    "\n",
    "\n",
    "\n",
    "- High pressure or low pressure to maximise yield\n",
    "- Decreasing the volume of a gaseous equilbrium mixture at constant temperature will cause the system to shift in the direction that reduces the number of moles of gas.\n",
    "- For example, $ N_2 (g) + 3H_2 (g) \\rightleftharpoons 2NH_3 (g) $, increased pressure will favour the products in this reaction.\n",
    "- $$ K_p = {(P_{NH_3})^2 \\over (P_{N_2}) (P_{H_2})^3} $$\n",
    "\n",
    "Improving reaction yield by introducing concentration changes\n",
    "\n",
    "- Consider endothermic or exothermic processes (those that consume or release heat respectively)\n",
    "- For an endothermic process, that is one that consumes heat. If you increase the temperature you will shift the process to the right and vice versa.\n",
    "- For an exothermic process, that is one that produces heat. If you \n",
    "\n",
    "\n",
    "\n",
    "### Temperature dependence of the equilbrium constant\n",
    "\n",
    "Why enthalpy effects dominate over entropy effects \n",
    "\n",
    "\n",
    "\n",
    "\n",
    "### Extent of reaction ($ \\xi $)\n",
    "\n",
    "- Extent of reaction can be thought of as a variable that connects a relationship between unknown amounts of reactants and products in a reaction.\n",
    "- If $\\xi$ > 0, the reaction is a forward reaction (moves left to right).\n",
    "- If $\\xi$ < 0, the reaction is a reverse reaction (moves right to left).\n",
    "  \n",
    "$$ \\xi = {n_i - n_{i,o} \\over v_i} $$\n",
    "$$ n_i = {n_{i,o} + v_i \\xi} $$"
   ]
  },
  {
   "cell_type": "code",
   "execution_count": 1,
   "metadata": {},
   "outputs": [],
   "source": [
    "import numpy as np \n",
    "import matplotlib.pyplot as plt\n",
    "import scipy.optimize as opt \n",
    "import scipy.constants as const\n",
    "import math\n",
    "plt.style.use('seaborn-whitegrid')\n",
    "%matplotlib inline"
   ]
  },
  {
   "cell_type": "code",
   "execution_count": 6,
   "metadata": {},
   "outputs": [
    {
     "data": {
      "image/png": "[encoded data removed]",
      "text/plain": [
       "<Figure size 432x288 with 1 Axes>"
      ]
     },
     "metadata": {
      "needs_background": "light"
     },
     "output_type": "display_data"
    }
   ],
   "source": [
    "InvT = np.array([2.86, 2.5, 2.22, 2.00])\n",
    "ln_k = np.array([7.83, 4.26, 1.68, -0.392])\n",
    "\n",
    "# plt.plot(InvT, ln_k, '-r')\n",
    "# plt.show()\n",
    "\n",
    "def func(x,a,b):\n",
    "    return (a * x + b)\n",
    "\n",
    "optP, pcov = opt.curve_fit(func,InvT, ln_k)\n",
    "\n",
    "plt.plot(InvT, ln_k,'go',label='data')\n",
    "plt.plot(InvT,func(InvT,*optP),'r-',label='fit')\n",
    "\n",
    "plt.xlabel('1/T',size=16)\n",
    "plt.ylabel('ln k',size=16)\n",
    "plt.legend()\n",
    "plt.show()"
   ]
  },
  {
   "cell_type": "code",
   "execution_count": 11,
   "metadata": {},
   "outputs": [
    {
     "name": "stdout",
     "output_type": "stream",
     "text": [
      "[  9.54116936 -19.50660063   1.        ]\n"
     ]
    }
   ],
   "source": [
    "print(optP)"
   ]
  },
  {
   "cell_type": "code",
   "execution_count": 14,
   "metadata": {},
   "outputs": [
    {
     "name": "stdout",
     "output_type": "stream",
     "text": [
      "79.32969601262405\n"
     ]
    }
   ],
   "source": [
    "enth = optP[0] * const.R\n",
    "print(enth)"
   ]
  },
  {
   "cell_type": "code",
   "execution_count": 43,
   "metadata": {},
   "outputs": [
    {
     "name": "stdout",
     "output_type": "stream",
     "text": [
      "[2.85714286 2.5        2.22222222 2.        ]\n",
      "[ 7.82905855  4.26158048  1.68200861 -0.39204209]\n"
     ]
    }
   ],
   "source": [
    "T = np.array([350,400,450,500])\n",
    "K = np.array([3.98e-4, 1.41e-2, 1.86e-1, 1.48])\n",
    "\n",
    "def invT(T):\n",
    "    return 1000/T \n",
    "\n",
    "def neg_lnK(K):\n",
    "    return -(math.log(K))\n",
    "\n",
    "invT = np.array([invT(t) for t in T])\n",
    "neg_lnK = np.array([neg_lnK(k) for k in K])\n",
    "       \n",
    "print(invT)\n",
    "print(neg_lnK)"
   ]
  },
  {
   "cell_type": "code",
   "execution_count": 44,
   "metadata": {},
   "outputs": [
    {
     "name": "stderr",
     "output_type": "stream",
     "text": [
      "c:\\Users\\rhys-\\anaconda3\\lib\\site-packages\\scipy\\optimize\\minpack.py:833: OptimizeWarning: Covariance of the parameters could not be estimated\n",
      "  warnings.warn('Covariance of the parameters could not be estimated',\n"
     ]
    },
    {
     "data": {
      "image/png": "[encoded data removed]",
      "text/plain": [
       "<Figure size 432x288 with 1 Axes>"
      ]
     },
     "metadata": {
      "needs_background": "light"
     },
     "output_type": "display_data"
    }
   ],
   "source": [
    "def func(x,a,b,c):\n",
    "    return (a * x + b)\n",
    "\n",
    "optP, pcov = opt.curve_fit(func,InvT, ln_k)\n",
    "\n",
    "plt.plot(InvT, ln_k,'go',label='data')\n",
    "plt.plot(InvT,func(InvT,*optP),'r-',label='fit')\n",
    "\n",
    "plt.xlabel('1/T',size=16)\n",
    "plt.ylabel('-ln k',size=16)\n",
    "plt.legend()\n",
    "plt.show()"
   ]
  }
 ],
 "metadata": {
  "kernelspec": {
   "display_name": "Python 3.9.12",
   "language": "python",
   "name": "python3"
  },
  "language_info": {
   "codemirror_mode": {
    "name": "ipython",
    "version": 3
   },
   "file_extension": ".py",
   "mimetype": "text/x-python",
   "name": "python",
   "nbconvert_exporter": "python",
   "pygments_lexer": "ipython3",
   "version": "3.9.12"
  },
  "orig_nbformat": 4,
  "vscode": {
   "interpreter": {
    "hash": "93fc3b888e0cb9ffa465d85c091164963bd0d6f37310da138d470df672e240d6"
   }
  }
 },
 "nbformat": 4,
 "nbformat_minor": 2
}
